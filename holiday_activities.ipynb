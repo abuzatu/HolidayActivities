{
 "cells": [
  {
   "cell_type": "code",
   "execution_count": 10,
   "metadata": {},
   "outputs": [
    {
     "name": "stdout",
     "output_type": "stream",
     "text": [
      "The autoreload extension is already loaded. To reload it, use:\n",
      "  %reload_ext autoreload\n"
     ]
    }
   ],
   "source": [
    "from utils import *\n",
    "\n",
    "%load_ext autoreload\n",
    "%autoreload 2"
   ]
  },
  {
   "cell_type": "code",
   "execution_count": 2,
   "metadata": {},
   "outputs": [],
   "source": [
    "# logging level: NOTSET, DEBUG, INFO, WARNING, ERROR, CRITICAL\n",
    "logger = logging.getLogger()\n",
    "logger.setLevel(logging.INFO)"
   ]
  },
  {
   "cell_type": "code",
   "execution_count": 3,
   "metadata": {},
   "outputs": [],
   "source": [
    "LIST_LIST_LINE = [\n",
    "    [\"0\"], \n",
    "    [\"5\", \"1 3\", \"2 4\", \"4 6\", \"26 29\", \"5 2\"],\n",
    "    [\"2\", \"4 6\", \"23 24\"],\n",
    "    [\"1\", \"20 23\", \"22 5\"],\n",
    "    [\"9\", \"4 6\", \"8 10\", \"10 14\", \"9 15\", \"18 20\", \"19 23\", \"23 3\", \"7 8\", \"16 17\", \"22 2\", \"8 10\", \"10 14\"],\n",
    "]"
   ]
  },
  {
   "cell_type": "code",
   "execution_count": 11,
   "metadata": {
    "scrolled": true
   },
   "outputs": [
    {
     "name": "stderr",
     "output_type": "stream",
     "text": [
      "INFO:root:\n",
      "INFO:root:\n",
      "INFO:root:**** new use case  ****\n",
      "INFO:root:list_line=['0']:\n",
      "INFO:root:The solution, the number of days needed for all the activities, is: 0.\n",
      "INFO:root:Result of 0 for function process_list_line() in elapsed time 0.011 seconds.\n",
      "INFO:root:\n",
      "INFO:root:\n",
      "INFO:root:**** new use case  ****\n",
      "INFO:root:list_line=['5', '1 3', '2 4', '4 6', '26 29', '5 2']:\n",
      "WARNING:root:t2<t1 since 2<5. This activity  goes overnight into a second day, split into two events, add extra work for this edge case.\n",
      "INFO:root:The solution, the number of days needed for all the activities, is: 3.\n",
      "INFO:root:Result of 3 for function process_list_line() in elapsed time 0.034 seconds.\n",
      "INFO:root:\n",
      "INFO:root:\n",
      "INFO:root:**** new use case  ****\n",
      "INFO:root:list_line=['2', '4 6', '23 24']:\n",
      "INFO:root:The solution, the number of days needed for all the activities, is: 1.\n",
      "INFO:root:Result of 1 for function process_list_line() in elapsed time 0.007 seconds.\n",
      "INFO:root:\n",
      "INFO:root:\n",
      "INFO:root:**** new use case  ****\n",
      "INFO:root:list_line=['1', '20 23', '22 5']:\n",
      "WARNING:root:t2<t1 since 5<22. This activity  goes overnight into a second day, split into two events, add extra work for this edge case.\n",
      "INFO:root:The solution, the number of days needed for all the activities, is: 3.\n",
      "INFO:root:Result of 3 for function process_list_line() in elapsed time 0.014 seconds.\n",
      "INFO:root:\n",
      "INFO:root:\n",
      "INFO:root:**** new use case  ****\n",
      "INFO:root:list_line=['9', '4 6', '8 10', '10 14', '9 15', '18 20', '19 23', '23 3', '7 8', '16 17', '22 2', '8 10', '10 14']:\n",
      "WARNING:root:t2<t1 since 3<23. This activity  goes overnight into a second day, split into two events, add extra work for this edge case.\n",
      "WARNING:root:t2<t1 since 2<22. This activity  goes overnight into a second day, split into two events, add extra work for this edge case.\n",
      "INFO:root:The solution, the number of days needed for all the activities, is: 4.\n",
      "INFO:root:Result of 4 for function process_list_line() in elapsed time 0.013 seconds.\n"
     ]
    }
   ],
   "source": [
    "for list_line in LIST_LIST_LINE:\n",
    "    process_list_line(list_line)"
   ]
  }
 ],
 "metadata": {
  "kernelspec": {
   "display_name": "Python 3",
   "language": "python",
   "name": "python3"
  },
  "language_info": {
   "codemirror_mode": {
    "name": "ipython",
    "version": 3
   },
   "file_extension": ".py",
   "mimetype": "text/x-python",
   "name": "python",
   "nbconvert_exporter": "python",
   "pygments_lexer": "ipython3",
   "version": "3.7.5"
  }
 },
 "nbformat": 4,
 "nbformat_minor": 2
}
